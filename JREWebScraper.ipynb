{
 "cells": [
  {
   "cell_type": "code",
   "execution_count": null,
   "metadata": {},
   "outputs": [],
   "source": [
    "import requests\n",
    "from bs4 import BeautifulSoup\n",
    "import re\n",
    "import os\n",
    "\n",
    "def get_episode_links(url):\n",
    "    response = requests.get(url)\n",
    "    soup = BeautifulSoup(response.text, 'html.parser')\n",
    "    links = soup.find_all('a', href=True)\n",
    "    episode_links = [link['href'] for link in links if re.match(r'https://ogjre.com/episode/\\d+-.*', link['href'])]\n",
    "    return episode_links\n",
    "\n",
    "def scrape_transcript(episode_url):\n",
    "    response = requests.get(episode_url)\n",
    "    soup = BeautifulSoup(response.text, 'html.parser')\n",
    "    transcript_text = soup.find('p', class_='chakra-text ssc-transcript css-0').get_text(strip=True)\n",
    "    return transcript_text\n",
    "\n",
    "def save_transcript(filename, text):\n",
    "    with open(filename, 'w', encoding='utf-8') as file:\n",
    "        file.write(text)\n",
    "\n",
    "def main():\n",
    "    main_url = 'https://ogjre.com/transcripts'\n",
    "    episode_links = get_episode_links(main_url)\n",
    "\n",
    "    for link in episode_links:\n",
    "        transcript = scrape_transcript(link)\n",
    "        filename = link.split('/')[-1] + '.txt'\n",
    "        save_transcript(filename, transcript)\n",
    "        print(f\"Saved transcript for {filename}\")\n",
    "\n",
    "if __name__ == \"__main__\":\n",
    "    main()\n"
   ]
  }
 ],
 "metadata": {
  "kernelspec": {
   "display_name": "machinelearning_20220719",
   "language": "python",
   "name": "python3"
  },
  "language_info": {
   "name": "python",
   "version": "3.7.13"
  }
 },
 "nbformat": 4,
 "nbformat_minor": 2
}
